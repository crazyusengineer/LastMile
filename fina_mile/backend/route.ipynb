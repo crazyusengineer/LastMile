{
 "cells": [
  {
   "cell_type": "code",
   "execution_count": 1,
   "metadata": {
    "collapsed": true
   },
   "outputs": [],
   "source": [
    "import numpy as np\n",
    "import random"
   ]
  },
  {
   "cell_type": "code",
   "execution_count": 2,
   "outputs": [],
   "source": [
    "money_arr = np.random.randint(0,10, [10,10])"
   ],
   "metadata": {
    "collapsed": false,
    "pycharm": {
     "name": "#%%\n"
    }
   }
  },
  {
   "cell_type": "code",
   "execution_count": 3,
   "outputs": [
    {
     "data": {
      "text/plain": "array([[4, 9, 4, 6, 0, 1, 6, 5, 2, 4],\n       [6, 6, 6, 9, 3, 8, 4, 3, 8, 9],\n       [4, 3, 2, 4, 1, 3, 7, 5, 0, 9],\n       [8, 2, 3, 3, 7, 8, 5, 3, 4, 4],\n       [0, 4, 6, 7, 4, 0, 1, 0, 8, 3],\n       [9, 8, 3, 1, 1, 3, 5, 8, 9, 4],\n       [0, 5, 9, 9, 7, 7, 7, 2, 5, 7],\n       [4, 6, 9, 2, 8, 6, 2, 9, 8, 9],\n       [7, 9, 9, 1, 7, 1, 0, 7, 0, 4],\n       [3, 3, 7, 6, 9, 0, 7, 7, 4, 6]])"
     },
     "execution_count": 3,
     "metadata": {},
     "output_type": "execute_result"
    }
   ],
   "source": [
    "money_arr"
   ],
   "metadata": {
    "collapsed": false,
    "pycharm": {
     "name": "#%%\n"
    }
   }
  },
  {
   "cell_type": "code",
   "execution_count": 4,
   "outputs": [],
   "source": [
    "time_arr = np.random.randint(0, 5, [10, 10])"
   ],
   "metadata": {
    "collapsed": false,
    "pycharm": {
     "name": "#%%\n"
    }
   }
  },
  {
   "cell_type": "code",
   "execution_count": 5,
   "outputs": [
    {
     "data": {
      "text/plain": "array([[2, 4, 2, 3, 4, 0, 1, 2, 4, 2],\n       [3, 4, 0, 2, 0, 2, 2, 3, 0, 0],\n       [3, 0, 2, 0, 2, 2, 1, 0, 2, 3],\n       [1, 2, 0, 0, 2, 0, 1, 3, 1, 4],\n       [4, 1, 4, 1, 2, 0, 3, 0, 1, 4],\n       [1, 2, 4, 3, 1, 4, 3, 1, 3, 2],\n       [0, 4, 0, 2, 3, 4, 1, 4, 0, 1],\n       [0, 2, 1, 2, 3, 1, 4, 0, 2, 1],\n       [4, 0, 2, 0, 0, 0, 1, 1, 0, 3],\n       [0, 1, 1, 2, 2, 2, 3, 3, 3, 2]])"
     },
     "execution_count": 5,
     "metadata": {},
     "output_type": "execute_result"
    }
   ],
   "source": [
    "time_arr"
   ],
   "metadata": {
    "collapsed": false,
    "pycharm": {
     "name": "#%%\n"
    }
   }
  },
  {
   "cell_type": "code",
   "execution_count": 6,
   "outputs": [],
   "source": [
    "# comb_arr = np.zeros((10, 10), dtype=list)\n",
    "# comb_arr"
   ],
   "metadata": {
    "collapsed": false,
    "pycharm": {
     "name": "#%%\n"
    }
   }
  },
  {
   "cell_type": "code",
   "execution_count": 7,
   "outputs": [
    {
     "data": {
      "text/plain": "[[[4, 2],\n  [9, 4],\n  [4, 2],\n  [6, 3],\n  [0, 4],\n  [1, 0],\n  [6, 1],\n  [5, 2],\n  [2, 4],\n  [4, 2]],\n [[6, 3],\n  [6, 4],\n  [6, 0],\n  [9, 2],\n  [3, 0],\n  [8, 2],\n  [4, 2],\n  [3, 3],\n  [8, 0],\n  [9, 0]],\n [[4, 3],\n  [3, 0],\n  [2, 2],\n  [4, 0],\n  [1, 2],\n  [3, 2],\n  [7, 1],\n  [5, 0],\n  [0, 2],\n  [9, 3]],\n [[8, 1],\n  [2, 2],\n  [3, 0],\n  [3, 0],\n  [7, 2],\n  [8, 0],\n  [5, 1],\n  [3, 3],\n  [4, 1],\n  [4, 4]],\n [[0, 4],\n  [4, 1],\n  [6, 4],\n  [7, 1],\n  [4, 2],\n  [0, 0],\n  [1, 3],\n  [0, 0],\n  [8, 1],\n  [3, 4]],\n [[9, 1],\n  [8, 2],\n  [3, 4],\n  [1, 3],\n  [1, 1],\n  [3, 4],\n  [5, 3],\n  [8, 1],\n  [9, 3],\n  [4, 2]],\n [[0, 0],\n  [5, 4],\n  [9, 0],\n  [9, 2],\n  [7, 3],\n  [7, 4],\n  [7, 1],\n  [2, 4],\n  [5, 0],\n  [7, 1]],\n [[4, 0],\n  [6, 2],\n  [9, 1],\n  [2, 2],\n  [8, 3],\n  [6, 1],\n  [2, 4],\n  [9, 0],\n  [8, 2],\n  [9, 1]],\n [[7, 4],\n  [9, 0],\n  [9, 2],\n  [1, 0],\n  [7, 0],\n  [1, 0],\n  [0, 1],\n  [7, 1],\n  [0, 0],\n  [4, 3]],\n [[3, 0],\n  [3, 1],\n  [7, 1],\n  [6, 2],\n  [9, 2],\n  [0, 2],\n  [7, 3],\n  [7, 3],\n  [4, 3],\n  [6, 2]]]"
     },
     "execution_count": 7,
     "metadata": {},
     "output_type": "execute_result"
    }
   ],
   "source": [
    "comb_arr = []\n",
    "for i in range(10):\n",
    "    row = [0] * 10\n",
    "    for j in range(10):\n",
    "        row[j] = [money_arr[i][j], time_arr[i][j]]\n",
    "    comb_arr.append(row)\n",
    "comb_arr"
   ],
   "metadata": {
    "collapsed": false,
    "pycharm": {
     "name": "#%%\n"
    }
   }
  },
  {
   "cell_type": "code",
   "execution_count": 8,
   "outputs": [
    {
     "data": {
      "text/plain": "[[[4, 2],\n  [9, 4],\n  [4, 2],\n  [6, 3],\n  [0, 4],\n  [1, 0],\n  [6, 1],\n  [5, 2],\n  [2, 4],\n  [4, 2]],\n [[6, 3],\n  [6, 4],\n  [6, 0],\n  [9, 2],\n  [3, 0],\n  [8, 2],\n  [4, 2],\n  [3, 3],\n  [8, 0],\n  [9, 0]],\n [[4, 3],\n  [3, 0],\n  [2, 2],\n  [4, 0],\n  [1, 2],\n  [3, 2],\n  [7, 1],\n  [-1, -1],\n  [0, 2],\n  [9, 3]],\n [[8, 1],\n  [2, 2],\n  [3, 0],\n  [3, 0],\n  [-1, -1],\n  [8, 0],\n  [5, 1],\n  [3, 3],\n  [4, 1],\n  [4, 4]],\n [[-1, -1],\n  [4, 1],\n  [6, 4],\n  [7, 1],\n  [4, 2],\n  [0, 0],\n  [1, 3],\n  [0, 0],\n  [8, 1],\n  [3, 4]],\n [[9, 1],\n  [8, 2],\n  [3, 4],\n  [1, 3],\n  [1, 1],\n  [3, 4],\n  [5, 3],\n  [8, 1],\n  [9, 3],\n  [4, 2]],\n [[0, 0],\n  [5, 4],\n  [9, 0],\n  [9, 2],\n  [7, 3],\n  [7, 4],\n  [-1, -1],\n  [2, 4],\n  [-1, -1],\n  [7, 1]],\n [[4, 0],\n  [6, 2],\n  [9, 1],\n  [2, 2],\n  [8, 3],\n  [6, 1],\n  [2, 4],\n  [9, 0],\n  [8, 2],\n  [9, 1]],\n [[7, 4],\n  [9, 0],\n  [9, 2],\n  [1, 0],\n  [7, 0],\n  [1, 0],\n  [0, 1],\n  [7, 1],\n  [0, 0],\n  [4, 3]],\n [[3, 0],\n  [3, 1],\n  [7, 1],\n  [6, 2],\n  [9, 2],\n  [0, 2],\n  [7, 3],\n  [7, 3],\n  [4, 3],\n  [6, 2]]]"
     },
     "execution_count": 8,
     "metadata": {},
     "output_type": "execute_result"
    }
   ],
   "source": [
    "def generate_blocks(num, comb_arr):\n",
    "    rand_x = []\n",
    "    rand_y = []\n",
    "    for i in range(num):\n",
    "        rand_x.append(random.randint(0, 9))\n",
    "        rand_y.append(random.randint(0, 9))\n",
    "    for j in range(num):\n",
    "        comb_arr[rand_x[j]][rand_y[j]] = [-1, -1]\n",
    "    return comb_arr\n",
    "# generate_blocks probably adding nums of blocks instead of generating nums\n",
    "generate_blocks(5, comb_arr)\n",
    "comb_arr"
   ],
   "metadata": {
    "collapsed": false,
    "pycharm": {
     "name": "#%%\n"
    }
   }
  },
  {
   "cell_type": "code",
   "execution_count": 9,
   "outputs": [],
   "source": [
    "def direction(source, destination):\n",
    "    row_d = destination[0] - source[0]\n",
    "    col_d = destination[1] - source[1]\n",
    "    return row_d, col_d"
   ],
   "metadata": {
    "collapsed": false,
    "pycharm": {
     "name": "#%%\n"
    }
   }
  },
  {
   "cell_type": "code",
   "execution_count": 10,
   "outputs": [],
   "source": [
    "class Graph:\n",
    "\n",
    "    def __init__(self, vertices):\n",
    "        self.V = vertices  # No. of vertices\n",
    "        self.graph = []\n",
    "\n",
    "    # function to add an edge to graph\n",
    "    def addEdge(self, u, v, w):\n",
    "        self.graph.append([u, v, w])\n",
    "\n",
    "    # utility function used to print the solution\n",
    "    def printArr(self, dist):\n",
    "        print(\"Vertex Distance from Source\")\n",
    "        for i in range(self.V):\n",
    "            print(\"{0}\\t\\t{1}\".format(i, dist[i]))\n",
    "\n",
    "    # The main function that finds shortest distances from src to\n",
    "    # all other vertices using Bellman-Ford algorithm. The function\n",
    "    # also detects negative weight cycle\n",
    "    def BellmanFord(self, src, dest):\n",
    "\n",
    "        # Step 1: Initialize distances from src to all other vertices\n",
    "        # as INFINITE\n",
    "        dist = [float(\"Inf\")] * self.V\n",
    "        dist[src] = 0\n",
    "        pred = [None] * self.V\n",
    "\n",
    "        # Step 2: Relax all edges |V| - 1 times. A simple shortest\n",
    "        # path from src to any other vertex can have at-most |V| - 1\n",
    "        # edges\n",
    "        for _ in range(self.V - 1):\n",
    "            # Update dist value and parent index of the adjacent vertices of\n",
    "            # the picked vertex. Consider only those vertices which are still in\n",
    "            # queue\n",
    "            for u, v, w in self.graph:\n",
    "                if dist[u] != float(\"Inf\") and dist[u] + w < dist[v]:\n",
    "                    dist[v] = dist[u] + w\n",
    "                    pred[v] = u\n",
    "\n",
    "        # Step 3: check for negative-weight cycles. The above step\n",
    "        # guarantees shortest distances if graph doesn't contain\n",
    "        # negative weight cycle. If we get a shorter path, then there\n",
    "        # is a cycle.\n",
    "\n",
    "        for u, v, w in self.graph:\n",
    "            if dist[u] != float(\"Inf\") and dist[u] + w < dist[v]:\n",
    "                print(\"Graph contains negative weight cycle\")\n",
    "                return\n",
    "\n",
    "        # print all distance\n",
    "        # self.printArr(dist)\n",
    "        path = []\n",
    "        current = dest\n",
    "        while current:\n",
    "            path.append(current)\n",
    "            print(current)\n",
    "            current = pred[current]\n",
    "        path = path [::-1]\n",
    "        if src not in path:\n",
    "            path.insert(0, src)\n",
    "        return dist[dest], path"
   ],
   "metadata": {
    "collapsed": false,
    "pycharm": {
     "name": "#%%\n"
    }
   }
  },
  {
   "cell_type": "code",
   "execution_count": 11,
   "outputs": [
    {
     "name": "stdout",
     "output_type": "stream",
     "text": [
      "[[[4, 2], [9, 4], [4, 2], [6, 3], [0, 4], [1, 0], [6, 1], [5, 2], [2, 4], [4, 2]], [[6, 3], [6, 4], [6, 0], [9, 2], [3, 0], [8, 2], [4, 2], [3, 3], [8, 0], [9, 0]], [[4, 3], [3, 0], [2, 2], [4, 0], [1, 2], [3, 2], [7, 1], [-1, -1], [0, 2], [9, 3]], [[8, 1], [2, 2], [3, 0], [3, 0], [-1, -1], [8, 0], [5, 1], [3, 3], [4, 1], [4, 4]], [[-1, -1], [4, 1], [6, 4], [7, 1], [4, 2], [0, 0], [1, 3], [0, 0], [8, 1], [3, 4]], [[9, 1], [8, 2], [3, 4], [1, 3], [1, 1], [3, 4], [5, 3], [8, 1], [9, 3], [4, 2]], [[0, 0], [5, 4], [9, 0], [9, 2], [7, 3], [7, 4], [-1, -1], [2, 4], [-1, -1], [7, 1]], [[4, 0], [6, 2], [9, 1], [2, 2], [8, 3], [6, 1], [2, 4], [9, 0], [8, 2], [9, 1]], [[7, 4], [9, 0], [9, 2], [1, 0], [7, 0], [1, 0], [0, 1], [7, 1], [0, 0], [4, 3]], [[3, 0], [3, 1], [7, 1], [6, 2], [9, 2], [0, 2], [7, 3], [7, 3], [4, 3], [6, 2]]]\n",
      "95\n"
     ]
    },
    {
     "data": {
      "text/plain": "[0,\n 1,\n 2,\n 3,\n 4,\n 5,\n 6,\n 7,\n 8,\n 9,\n 10,\n 11,\n 12,\n 13,\n 14,\n 15,\n 16,\n 17,\n 18,\n 19,\n 20,\n 21,\n 22,\n 23,\n 24,\n 25,\n 26,\n 28,\n 29,\n 30,\n 31,\n 32,\n 33,\n 35,\n 36,\n 37,\n 38,\n 39,\n 41,\n 42,\n 43,\n 44,\n 45,\n 46,\n 47,\n 48,\n 49,\n 50,\n 51,\n 52,\n 53,\n 54,\n 55,\n 56,\n 57,\n 58,\n 59,\n 60,\n 61,\n 62,\n 63,\n 64,\n 65,\n 67,\n 69,\n 70,\n 71,\n 72,\n 73,\n 74,\n 75,\n 76,\n 77,\n 78,\n 79,\n 80,\n 81,\n 82,\n 83,\n 84,\n 85,\n 86,\n 87,\n 88,\n 89,\n 90,\n 91,\n 92,\n 93,\n 94,\n 95,\n 96,\n 97,\n 98,\n 99]"
     },
     "execution_count": 11,
     "metadata": {},
     "output_type": "execute_result"
    }
   ],
   "source": [
    "ttl_vertex = 0\n",
    "accessible_vertex_coordinate = []\n",
    "accessible_vertex_id = []\n",
    "counter = 0\n",
    "for i in range (10):\n",
    "    for j in range (10):\n",
    "        if comb_arr[i][j] != [-1, -1]:\n",
    "            ttl_vertex += 1\n",
    "            accessible_vertex_coordinate.append([i,j])\n",
    "            accessible_vertex_id.append(counter)\n",
    "        counter += 1\n",
    "print(comb_arr)\n",
    "print(ttl_vertex)\n",
    "accessible_vertex_id"
   ],
   "metadata": {
    "collapsed": false,
    "pycharm": {
     "name": "#%%\n"
    }
   }
  },
  {
   "cell_type": "code",
   "execution_count": 12,
   "outputs": [],
   "source": [
    "def generate_edges(accessible_vertex, graph, comb_arr, preference, r_len):\n",
    "    \"\"\"\n",
    "    r_len for row length, (e.g. 13 * 9, r_len = 13)\n",
    "    size of the array should be given in previous functions\n",
    "    return:\n",
    "\n",
    "    \"\"\"\n",
    "    # preference = 0, time preferred\n",
    "    # preference = 1, money preferred\n",
    "    for x in accessible_vertex:\n",
    "        id = x\n",
    "        up = id - r_len\n",
    "        down = id + r_len\n",
    "        right = id + 1\n",
    "        left = id - 1\n",
    "        if up in accessible_vertex:\n",
    "            x = up // r_len\n",
    "            y = up % r_len\n",
    "            graph.addEdge(id, up, comb_arr[x][y][preference])\n",
    "            # print(\"edge added\")\n",
    "        if down in accessible_vertex:\n",
    "            x = down // r_len\n",
    "            y = down % r_len\n",
    "            graph.addEdge(id, down, comb_arr[x][y][preference])\n",
    "            # print(\"edge added\")\n",
    "        if right in accessible_vertex:\n",
    "            if id % r_len != r_len - 1:\n",
    "                x = right // r_len\n",
    "                y = right % r_len\n",
    "                graph.addEdge(id, right, comb_arr[x][y][preference])\n",
    "                # print(\"edge added\")\n",
    "        if left in accessible_vertex:\n",
    "            if id % r_len != r_len:\n",
    "                x = left // r_len\n",
    "                y = left % r_len\n",
    "                graph.addEdge(id, left, comb_arr[x][y][preference])\n",
    "                # print(\"edge added\")"
   ],
   "metadata": {
    "collapsed": false,
    "pycharm": {
     "name": "#%%\n"
    }
   }
  },
  {
   "cell_type": "code",
   "execution_count": 13,
   "outputs": [
    {
     "data": {
      "text/plain": "[[0, 10, 6],\n [0, 1, 9],\n [1, 11, 6],\n [1, 2, 4],\n [1, 0, 4],\n [2, 12, 6],\n [2, 3, 6],\n [2, 1, 9],\n [3, 13, 9],\n [3, 4, 0],\n [3, 2, 4],\n [4, 14, 3],\n [4, 5, 1],\n [4, 3, 6],\n [5, 15, 8],\n [5, 6, 6],\n [5, 4, 0],\n [6, 16, 4],\n [6, 7, 5],\n [6, 5, 1],\n [7, 17, 3],\n [7, 8, 2],\n [7, 6, 6],\n [8, 18, 8],\n [8, 9, 4],\n [8, 7, 5],\n [9, 19, 9],\n [9, 8, 2],\n [10, 0, 4],\n [10, 20, 4],\n [10, 11, 6],\n [10, 9, 4],\n [11, 1, 9],\n [11, 21, 3],\n [11, 12, 6],\n [11, 10, 6],\n [12, 2, 4],\n [12, 22, 2],\n [12, 13, 9],\n [12, 11, 6],\n [13, 3, 6],\n [13, 23, 4],\n [13, 14, 3],\n [13, 12, 6],\n [14, 4, 0],\n [14, 24, 1],\n [14, 15, 8],\n [14, 13, 9],\n [15, 5, 1],\n [15, 25, 3],\n [15, 16, 4],\n [15, 14, 3],\n [16, 6, 6],\n [16, 26, 7],\n [16, 17, 3],\n [16, 15, 8],\n [17, 7, 5],\n [17, 18, 8],\n [17, 16, 4],\n [18, 8, 2],\n [18, 28, 0],\n [18, 19, 9],\n [18, 17, 3],\n [19, 9, 4],\n [19, 29, 9],\n [19, 18, 8],\n [20, 10, 6],\n [20, 30, 8],\n [20, 21, 3],\n [20, 19, 9],\n [21, 11, 6],\n [21, 31, 2],\n [21, 22, 2],\n [21, 20, 4],\n [22, 12, 6],\n [22, 32, 3],\n [22, 23, 4],\n [22, 21, 3],\n [23, 13, 9],\n [23, 33, 3],\n [23, 24, 1],\n [23, 22, 2],\n [24, 14, 3],\n [24, 25, 3],\n [24, 23, 4],\n [25, 15, 8],\n [25, 35, 8],\n [25, 26, 7],\n [25, 24, 1],\n [26, 16, 4],\n [26, 36, 5],\n [26, 25, 3],\n [28, 18, 8],\n [28, 38, 4],\n [28, 29, 9],\n [29, 19, 9],\n [29, 39, 4],\n [29, 28, 0],\n [30, 20, 4],\n [30, 31, 2],\n [30, 29, 9],\n [31, 21, 3],\n [31, 41, 4],\n [31, 32, 3],\n [31, 30, 8],\n [32, 22, 2],\n [32, 42, 6],\n [32, 33, 3],\n [32, 31, 2],\n [33, 23, 4],\n [33, 43, 7],\n [33, 32, 3],\n [35, 25, 3],\n [35, 45, 0],\n [35, 36, 5],\n [36, 26, 7],\n [36, 46, 1],\n [36, 37, 3],\n [36, 35, 8],\n [37, 47, 0],\n [37, 38, 4],\n [37, 36, 5],\n [38, 28, 0],\n [38, 48, 8],\n [38, 39, 4],\n [38, 37, 3],\n [39, 29, 9],\n [39, 49, 3],\n [39, 38, 4],\n [41, 31, 2],\n [41, 51, 8],\n [41, 42, 6],\n [42, 32, 3],\n [42, 52, 3],\n [42, 43, 7],\n [42, 41, 4],\n [43, 33, 3],\n [43, 53, 1],\n [43, 44, 4],\n [43, 42, 6],\n [44, 54, 1],\n [44, 45, 0],\n [44, 43, 7],\n [45, 35, 8],\n [45, 55, 3],\n [45, 46, 1],\n [45, 44, 4],\n [46, 36, 5],\n [46, 56, 5],\n [46, 47, 0],\n [46, 45, 0],\n [47, 37, 3],\n [47, 57, 8],\n [47, 48, 8],\n [47, 46, 1],\n [48, 38, 4],\n [48, 58, 9],\n [48, 49, 3],\n [48, 47, 0],\n [49, 39, 4],\n [49, 59, 4],\n [49, 48, 8],\n [50, 60, 0],\n [50, 51, 8],\n [50, 49, 3],\n [51, 41, 4],\n [51, 61, 5],\n [51, 52, 3],\n [51, 50, 9],\n [52, 42, 6],\n [52, 62, 9],\n [52, 53, 1],\n [52, 51, 8],\n [53, 43, 7],\n [53, 63, 9],\n [53, 54, 1],\n [53, 52, 3],\n [54, 44, 4],\n [54, 64, 7],\n [54, 55, 3],\n [54, 53, 1],\n [55, 45, 0],\n [55, 65, 7],\n [55, 56, 5],\n [55, 54, 1],\n [56, 46, 1],\n [56, 57, 8],\n [56, 55, 3],\n [57, 47, 0],\n [57, 67, 2],\n [57, 58, 9],\n [57, 56, 5],\n [58, 48, 8],\n [58, 59, 4],\n [58, 57, 8],\n [59, 49, 3],\n [59, 69, 7],\n [59, 58, 9],\n [60, 50, 9],\n [60, 70, 4],\n [60, 61, 5],\n [60, 59, 4],\n [61, 51, 8],\n [61, 71, 6],\n [61, 62, 9],\n [61, 60, 0],\n [62, 52, 3],\n [62, 72, 9],\n [62, 63, 9],\n [62, 61, 5],\n [63, 53, 1],\n [63, 73, 2],\n [63, 64, 7],\n [63, 62, 9],\n [64, 54, 1],\n [64, 74, 8],\n [64, 65, 7],\n [64, 63, 9],\n [65, 55, 3],\n [65, 75, 6],\n [65, 64, 7],\n [67, 57, 8],\n [67, 77, 9],\n [69, 59, 4],\n [69, 79, 9],\n [70, 60, 0],\n [70, 80, 7],\n [70, 71, 6],\n [70, 69, 7],\n [71, 61, 5],\n [71, 81, 9],\n [71, 72, 9],\n [71, 70, 4],\n [72, 62, 9],\n [72, 82, 9],\n [72, 73, 2],\n [72, 71, 6],\n [73, 63, 9],\n [73, 83, 1],\n [73, 74, 8],\n [73, 72, 9],\n [74, 64, 7],\n [74, 84, 7],\n [74, 75, 6],\n [74, 73, 2],\n [75, 65, 7],\n [75, 85, 1],\n [75, 76, 2],\n [75, 74, 8],\n [76, 86, 0],\n [76, 77, 9],\n [76, 75, 6],\n [77, 67, 2],\n [77, 87, 7],\n [77, 78, 8],\n [77, 76, 2],\n [78, 88, 0],\n [78, 79, 9],\n [78, 77, 9],\n [79, 69, 7],\n [79, 89, 4],\n [79, 78, 8],\n [80, 70, 4],\n [80, 90, 3],\n [80, 81, 9],\n [80, 79, 9],\n [81, 71, 6],\n [81, 91, 3],\n [81, 82, 9],\n [81, 80, 7],\n [82, 72, 9],\n [82, 92, 7],\n [82, 83, 1],\n [82, 81, 9],\n [83, 73, 2],\n [83, 93, 6],\n [83, 84, 7],\n [83, 82, 9],\n [84, 74, 8],\n [84, 94, 9],\n [84, 85, 1],\n [84, 83, 1],\n [85, 75, 6],\n [85, 95, 0],\n [85, 86, 0],\n [85, 84, 7],\n [86, 76, 2],\n [86, 96, 7],\n [86, 87, 7],\n [86, 85, 1],\n [87, 77, 9],\n [87, 97, 7],\n [87, 88, 0],\n [87, 86, 0],\n [88, 78, 8],\n [88, 98, 4],\n [88, 89, 4],\n [88, 87, 7],\n [89, 79, 9],\n [89, 99, 6],\n [89, 88, 0],\n [90, 80, 7],\n [90, 91, 3],\n [90, 89, 4],\n [91, 81, 9],\n [91, 92, 7],\n [91, 90, 3],\n [92, 82, 9],\n [92, 93, 6],\n [92, 91, 3],\n [93, 83, 1],\n [93, 94, 9],\n [93, 92, 7],\n [94, 84, 7],\n [94, 95, 0],\n [94, 93, 6],\n [95, 85, 1],\n [95, 96, 7],\n [95, 94, 9],\n [96, 86, 0],\n [96, 97, 7],\n [96, 95, 0],\n [97, 87, 7],\n [97, 98, 4],\n [97, 96, 7],\n [98, 88, 0],\n [98, 99, 6],\n [98, 97, 7],\n [99, 89, 4],\n [99, 98, 4]]"
     },
     "execution_count": 13,
     "metadata": {},
     "output_type": "execute_result"
    }
   ],
   "source": [
    "g = Graph(100)\n",
    "generate_edges(accessible_vertex_id, g, comb_arr, 0, 10)\n",
    "g.graph\n",
    "# g.BellmanFord(0)"
   ],
   "metadata": {
    "collapsed": false,
    "pycharm": {
     "name": "#%%\n"
    }
   }
  },
  {
   "cell_type": "code",
   "execution_count": 15,
   "outputs": [
    {
     "name": "stdout",
     "output_type": "stream",
     "text": [
      "Vertex Distance from Source\n",
      "0\t\t4\n",
      "1\t\t0\n",
      "2\t\t4\n",
      "3\t\t10\n",
      "4\t\t10\n",
      "5\t\t11\n",
      "6\t\t17\n",
      "7\t\t21\n",
      "8\t\t16\n",
      "9\t\t14\n",
      "10\t\t10\n",
      "11\t\t6\n",
      "12\t\t10\n",
      "13\t\t19\n",
      "14\t\t13\n",
      "15\t\t19\n",
      "16\t\t21\n",
      "17\t\t24\n",
      "18\t\t24\n",
      "19\t\t22\n",
      "20\t\t13\n",
      "21\t\t9\n",
      "22\t\t11\n",
      "23\t\t15\n",
      "24\t\t14\n",
      "25\t\t17\n",
      "26\t\t24\n",
      "27\t\tinf\n",
      "28\t\t24\n",
      "29\t\t28\n",
      "30\t\t19\n",
      "31\t\t11\n",
      "32\t\t14\n",
      "33\t\t17\n",
      "34\t\tinf\n",
      "35\t\t25\n",
      "36\t\t29\n",
      "37\t\t29\n",
      "38\t\t28\n",
      "39\t\t32\n",
      "40\t\tinf\n",
      "41\t\t15\n",
      "42\t\t20\n",
      "43\t\t24\n",
      "44\t\t28\n",
      "45\t\t25\n",
      "46\t\t26\n",
      "47\t\t26\n",
      "48\t\t34\n",
      "49\t\t35\n",
      "50\t\t32\n",
      "51\t\t23\n",
      "52\t\t23\n",
      "53\t\t24\n",
      "54\t\t25\n",
      "55\t\t28\n",
      "56\t\t31\n",
      "57\t\t34\n",
      "58\t\t41\n",
      "59\t\t32\n",
      "60\t\t28\n",
      "61\t\t28\n",
      "62\t\t32\n",
      "63\t\t33\n",
      "64\t\t32\n",
      "65\t\t35\n",
      "66\t\tinf\n",
      "67\t\t36\n",
      "68\t\tinf\n",
      "69\t\t39\n",
      "70\t\t32\n",
      "71\t\t34\n",
      "72\t\t41\n",
      "73\t\t35\n",
      "74\t\t40\n",
      "75\t\t41\n",
      "76\t\t43\n",
      "77\t\t45\n",
      "78\t\t53\n",
      "79\t\t48\n",
      "80\t\t39\n",
      "81\t\t43\n",
      "82\t\t45\n",
      "83\t\t36\n",
      "84\t\t43\n",
      "85\t\t42\n",
      "86\t\t42\n",
      "87\t\t49\n",
      "88\t\t46\n",
      "89\t\t46\n",
      "90\t\t42\n",
      "91\t\t45\n",
      "92\t\t49\n",
      "93\t\t42\n",
      "94\t\t51\n",
      "95\t\t42\n",
      "96\t\t49\n",
      "97\t\t56\n",
      "98\t\t50\n",
      "99\t\t52\n",
      "77\n",
      "67\n",
      "57\n",
      "47\n",
      "46\n",
      "45\n",
      "35\n",
      "25\n",
      "24\n",
      "14\n",
      "4\n",
      "3\n",
      "2\n",
      "1\n"
     ]
    },
    {
     "data": {
      "text/plain": "(45, [1, 2, 3, 4, 14, 24, 25, 35, 45, 46, 47, 57, 67, 77])"
     },
     "execution_count": 15,
     "metadata": {},
     "output_type": "execute_result"
    }
   ],
   "source": [
    "g.BellmanFord(1, 77)"
   ],
   "metadata": {
    "collapsed": false,
    "pycharm": {
     "name": "#%%\n"
    }
   }
  },
  {
   "cell_type": "code",
   "execution_count": 14,
   "outputs": [],
   "source": [],
   "metadata": {
    "collapsed": false,
    "pycharm": {
     "name": "#%%\n"
    }
   }
  }
 ],
 "metadata": {
  "kernelspec": {
   "display_name": "Python 3",
   "language": "python",
   "name": "python3"
  },
  "language_info": {
   "codemirror_mode": {
    "name": "ipython",
    "version": 2
   },
   "file_extension": ".py",
   "mimetype": "text/x-python",
   "name": "python",
   "nbconvert_exporter": "python",
   "pygments_lexer": "ipython2",
   "version": "2.7.6"
  }
 },
 "nbformat": 4,
 "nbformat_minor": 0
}